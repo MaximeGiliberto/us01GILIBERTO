{
 "cells": [
  {
   "cell_type": "markdown",
   "metadata": {},
   "source": [
    "Tax exercise"
   ]
  },
  {
   "cell_type": "code",
   "execution_count": 1,
   "metadata": {},
   "outputs": [],
   "source": [
    "rawtax='''\n",
    "Alabama\t4%\t13.5%\t\t\t\t\t\t\n",
    "Alaska\t0%\t7%\t\t\t\t\t\t\n",
    "Arizona\t5.6%\t10.725%\t\t\t\t\t\t\n",
    "Arkansas\t6.5%\t11.625%\t1.5%+\t\t\t\t\t\n",
    "California\t7.25%\t10.25%\t\t\t\t\t\t\n",
    "Colorado\t2.9%\t10%\t\t\t\t\t\t\n",
    "Connecticut\t6.35%\t6.35%\t\t\t\t\t\t1%\n",
    "Delaware\t0%\t0%\t\t\t\t\t\t\n",
    "District of Columbia\t5.75%\t5.75%\t\t10%\t\t\t\t\n",
    "Florida\t6%\t7.5%\t\t9% (max)\t\t\t\t\n",
    "Georgia\t4%\t8%\t4% (max)[40]\t\t\t\t\t\n",
    "Guam\t4%\t4%\t\t\t\t\t\n",
    "Hawaii\t4.166%\t4.712%\t\t\t\t\t\t\n",
    "Idaho\t6%\t8.5%\t\t\t[41]\t\t\t\n",
    "Illinois\t6.25%\t10.25%\t1%+\t8.25%+\t1%+\t1%+\t\t\n",
    "Indiana\t7%\t7%\t\t9% (max)\t\t\t\t\n",
    "Iowa\t6%\t7%\t\t\t\t\t\t\n",
    "Kansas\t6.5%\t10.15%\t\t\t\t\t\t\n",
    "Kentucky\t6%\t6%\t\t\t\t\t\t\n",
    "Louisiana\t5%\t12%\t7.0% (max)\t\t\t\t\t\n",
    "Maine\t5.5%\t5.5%\t\t8%\t\t\t\t\n",
    "Maryland\t6%\t6%\t\t\t\t\t\t\n",
    "Massachusetts\t6.25%\t6.25%\t\t7% (max)\t\t\t> $175\t\n",
    "Michigan\t6%\t6%\t\t\t\t\t\t\n",
    "Minnesota\t6.875%\t7.875%\t\t10.775% (max)\t\t\t\t\n",
    "Mississippi\t7%\t7.25%\t\t\t\t\t\t\n",
    "Missouri\t4.225%\t10.85%\t1.225%\t\t\t\t\t\n",
    "Montana\t0%\t0%\t\t\t\t\t\t\n",
    "Nebraska\t5.5%\t7.5%\t\t9.5% \n",
    "Nevada\t6.85%\t8.25%\t\t\t\t\t\t\n",
    "New Hampshire\t0%\t0%\t\t9%\t\t\t\t\n",
    "New Jersey\t6.625%\t12.875%\t\t\t\t\t\t\n",
    "New Mexico\t5.125%\t8.688%\t\t\t\t\t\t\n",
    "New York\t4%\t8.875%\t\t\t\t\t> $110\t\n",
    "North Carolina\t4.75%\t7.50%\t2%\t8.50% (max)\t\t\t\t\n",
    "North Dakota\t5%\t8%\t\t\t\t\t\t\n",
    "Ohio\t5.75%\t8%\t\tDine-in\t\t\t\t\n",
    "Oklahoma\t4.5%\t11%\t\t\t\t\t\t\n",
    "Oregon\t0%\t0%\t\t\t\t\t\t\n",
    "Pennsylvania\t6%\t8%\t\t\t\t\t\t\n",
    "Puerto Rico\t10.5%\t11.5%\t1%\t\t\t\t\n",
    "Rhode Island\t7%\t7%\t\t8%\t\t\t\t\n",
    "South Carolina\t6%\t9%\t\t10.5%\t\t\t\t\n",
    "South Dakota\t4%\t6%\t\t\t\t\t\t\n",
    "Tennessee\t7%\t9.75%\t4%+\t\t\t\t\t\n",
    "Texas\t6.25%\t8.25%\t\t\t\t\t\t\n",
    "Utah\t5.95%\t8.35%\t3%\t\t\t\t\t\n",
    "Vermont\t6%\t7%\t\t9%+\t\t\t> $110\t\n",
    "Virginia\t5.3%\t6%\t2.5%\t5.3%+\t\t\t\t\n",
    "Washington\t6.5%\t10.4%\t\t10% (max)\t\t\t\t\n",
    "West Virginia\t6%\t7%\t\t\t\t\t\t\n",
    "Wisconsin\t5%\t6.75%\t\t\t\t\t\t\n",
    "Wyoming\t4%\t6%\t\t\t\t\t\t\n",
    "'''\n"
   ]
  },
  {
   "cell_type": "code",
   "execution_count": null,
   "metadata": {},
   "outputs": [],
   "source": [
    "people = 4\n",
    "tip = 'I think it is quite bad'\n",
    "state = 'vermont'\n",
    "bill = 30\n",
    "tax = taxes[state.lower()]\n",
    "tips = {'bad': 0.1, 'average': 0.15, 'good': 0.2 }"
   ]
  },
  {
   "cell_type": "code",
   "execution_count": null,
   "metadata": {},
   "outputs": [],
   "source": [
    "taxes = {} #create a dictionnary\n",
    "#let's have it clearer\n",
    "for line in rawTaxes.split('\\n'):#we cut(split) at each \\n\n",
    "    if len(line) < 2:\n",
    "        continue\n",
    "        \n",
    "    if 'Omaha' in line: #because pb with Omaha\n",
    "        continue\n",
    "    \n",
    "    state = line.split('\\t')[0].split('[')[0].lower() #split at each tabulation\n",
    "    \n",
    "\n",
    "    tax = float(line.split('\\t')[1][:-1])/100 #the last caracter is %, not needed, divided by 100 to have a pourcentage\n",
    "    taxes[state] = tax\n",
    "\n",
    "taxes"
   ]
  },
  {
   "cell_type": "code",
   "execution_count": 12,
   "metadata": {},
   "outputs": [
    {
     "name": "stdout",
     "output_type": "stream",
     "text": [
      "7.25\n"
     ]
    }
   ],
   "source": [
    "etat='California'\n",
    "print(taxes[etat])\n"
   ]
  },
  {
   "cell_type": "code",
   "execution_count": null,
   "metadata": {},
   "outputs": [],
   "source": []
  },
  {
   "cell_type": "code",
   "execution_count": null,
   "metadata": {},
   "outputs": [],
   "source": [
    "final_tip = 'average'\n",
    "\n",
    "for k in list(tips.keys()):\n",
    "    if k in tip.lower():\n",
    "        final_tip = tips[k]\n",
    "        break\n",
    "        \n",
    "print('tip value is:',final_tip)\n",
    "                    "
   ]
  },
  {
   "cell_type": "code",
   "execution_count": null,
   "metadata": {},
   "outputs": [],
   "source": [
    "total_pre_tax = final_tip * bill\n",
    "    \n",
    "total_with_tax = bill * tax\n",
    "total = total_pre_tax + total_with_tax + bill"
   ]
  },
  {
   "cell_type": "code",
   "execution_count": null,
   "metadata": {},
   "outputs": [],
   "source": [
    "print('price per person is', total/people)"
   ]
  }
 ],
 "metadata": {
  "kernelspec": {
   "display_name": "Python 3",
   "language": "python",
   "name": "python3"
  },
  "language_info": {
   "codemirror_mode": {
    "name": "ipython",
    "version": 3
   },
   "file_extension": ".py",
   "mimetype": "text/x-python",
   "name": "python",
   "nbconvert_exporter": "python",
   "pygments_lexer": "ipython3",
   "version": "3.7.0"
  }
 },
 "nbformat": 4,
 "nbformat_minor": 2
}
